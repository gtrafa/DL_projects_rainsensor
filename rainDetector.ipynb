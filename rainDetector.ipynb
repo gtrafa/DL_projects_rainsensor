{
  "nbformat": 4,
  "nbformat_minor": 0,
  "metadata": {
    "colab": {
      "name": "rainDetector.ipynb",
      "provenance": [],
      "collapsed_sections": [],
      "include_colab_link": true
    },
    "kernelspec": {
      "name": "python3",
      "display_name": "Python 3"
    },
    "language_info": {
      "name": "python"
    }
  },
  "cells": [
    {
      "cell_type": "markdown",
      "metadata": {
        "id": "view-in-github",
        "colab_type": "text"
      },
      "source": [
        "<a href=\"https://colab.research.google.com/github/gtrafa/DL_projects_rainsensor/blob/main/rainDetector.ipynb\" target=\"_parent\"><img src=\"https://colab.research.google.com/assets/colab-badge.svg\" alt=\"Open In Colab\"/></a>"
      ]
    },
    {
      "cell_type": "code",
      "metadata": {
        "id": "pmqbvsodYg9f"
      },
      "source": [
        "from pathlib import Path\n",
        "import numpy as np\n",
        "import joblib\n",
        "from keras.preprocessing import image\n",
        "from keras.applications import vgg16\n",
        "\n",
        "from keras.models import Sequential\n",
        "from keras.layers import Dense, Dropout, Flatten\n",
        "\n",
        "# adjust image size\n",
        "from PIL import Image\n",
        "from keras.models import model_from_json\n",
        "# data source \n",
        "#https://www.kaggle.com/somesh24/multiclass-images-for-weather-classification"
      ],
      "execution_count": 140,
      "outputs": []
    },
    {
      "cell_type": "code",
      "metadata": {
        "colab": {
          "base_uri": "https://localhost:8080/"
        },
        "id": "dz9G6ppTkIWB",
        "outputId": "3899054e-d8ee-4379-e9ca-9619f89b2ba8"
      },
      "source": [
        "# Path to folders with training data\n",
        "rain_path = Path(\"/rain\")\n",
        "not_rain_path = Path(\"/not_rain\")\n",
        "\n",
        "image_count = len(list(not_rain_path.glob('*.jpg')))\n",
        "print(image_count)"
      ],
      "execution_count": null,
      "outputs": [
        {
          "output_type": "stream",
          "text": [
            "909\n"
          ],
          "name": "stdout"
        }
      ]
    },
    {
      "cell_type": "code",
      "metadata": {
        "id": "3hx-J4F_vap_"
      },
      "source": [
        "def adjustImage(img_begins):\n",
        "  \n",
        "  ORIG_WIDTH, ORIG_HEIGHT = img_begins.size\n",
        "  \n",
        "  diff = (ORIG_HEIGHT - ORIG_WIDTH) // 2\n",
        "  WIDTH = 64\n",
        "  HEIGHT = 64\n",
        "\n",
        "  crop_rect = (0, diff, ORIG_WIDTH, ORIG_HEIGHT - diff)\n",
        "  final_img = img_begins.crop(crop_rect)\n",
        "  final_img.thumbnail((WIDTH, HEIGHT), Image.ANTIALIAS)\n",
        "  return final_img\n"
      ],
      "execution_count": null,
      "outputs": []
    },
    {
      "cell_type": "code",
      "metadata": {
        "id": "v61qYwL5uQBA"
      },
      "source": [
        "images = []\n",
        "labels = []\n",
        "\n",
        "# Load all the not_rain images\n",
        "for img in not_rain_path.glob(\"*.jpg\"):\n",
        "\n",
        "    # Load the image from disk\n",
        "    img = image.load_img(img)\n",
        "\n",
        "    # Convert the image to a numpy array\n",
        "    #image_array = image.img_to_array(adjustImage(img))\n",
        "\n",
        "    # Add the image to the list of images\n",
        "    images.append(adjustImage(img))\n",
        "\n",
        "    # For each 'not dog' image, the expected value should be 0\n",
        "    labels.append(0)"
      ],
      "execution_count": null,
      "outputs": []
    },
    {
      "cell_type": "code",
      "metadata": {
        "id": "_TT9wD04cPWo"
      },
      "source": [
        "images = []\n",
        "labels = []\n",
        "\n",
        "# Load all the not_rain images\n",
        "for img in not_rain_path.glob(\"*.jpg\"):\n",
        "\n",
        "    # Load the image from disk\n",
        "    img = image.load_img(img,  target_size=(64, 64))\n",
        "\n",
        "    # Convert the image to a numpy array\n",
        "    #image_array = image.img_to_array(adjustImage(img))\n",
        "    image_array = image.img_to_array(img)\n",
        "\n",
        "\n",
        "    # Add the image to the list of images\n",
        "    images.append(image_array)\n",
        "    #images.append(adjustImage(img))\n",
        "\n",
        "    # For each 'not dog' image, the expected value should be 0\n",
        "    labels.append(0)\n",
        "  \n",
        "\n",
        "# Load all the dog images\n",
        "for img in rain_path.glob(\"*.jpg\"):\n",
        "    # Load the image from disk\n",
        "    img = image.load_img(img,  target_size=(64, 64))\n",
        "\n",
        "    # Convert the image to a numpy array\n",
        "    #image_array = image.img_to_array(adjustImage(img))\n",
        "    image_array = image.img_to_array(img)\n",
        "\n",
        "    # Add the image to the list of images\n",
        "    images.append(image_array)\n",
        "    #images.append(adjustImage(img))\n",
        "\n",
        "    # For each 'dog' image, the expected value should be 1\n",
        "    labels.append(1)\n",
        "\n"
      ],
      "execution_count": 126,
      "outputs": []
    },
    {
      "cell_type": "code",
      "metadata": {
        "colab": {
          "base_uri": "https://localhost:8080/"
        },
        "id": "T-aHfoy-iV0C",
        "outputId": "7deed6ef-782d-4f4d-a848-c44764a828e8"
      },
      "source": [
        "print(len(labels))\n",
        "print(len(images[0]))\n"
      ],
      "execution_count": 127,
      "outputs": [
        {
          "output_type": "stream",
          "text": [
            "1122\n",
            "64\n"
          ],
          "name": "stdout"
        }
      ]
    },
    {
      "cell_type": "code",
      "metadata": {
        "id": "nz6uwCyih6km"
      },
      "source": [
        "# Create a single numpy array with all the images we loaded\n",
        "x_train = np.array(images)\n",
        "\n",
        "# Also convert the labels to a numpy array\n",
        "y_train = np.array(labels)\n"
      ],
      "execution_count": 129,
      "outputs": []
    },
    {
      "cell_type": "code",
      "metadata": {
        "id": "NiUo11Rgr1ZI"
      },
      "source": [
        ""
      ],
      "execution_count": null,
      "outputs": []
    },
    {
      "cell_type": "code",
      "metadata": {
        "colab": {
          "base_uri": "https://localhost:8080/"
        },
        "id": "rhU1Nhbsny-y",
        "outputId": "08e33cdf-8b40-4ef0-855c-37abe1937554"
      },
      "source": [
        "\n",
        "# Normalize image data to 0-to-1 range\n",
        "x_train = vgg16.preprocess_input(x_train)\n",
        "\n",
        "# Load a pre-trained neural network to use as a feature extractor\n",
        "pretrained_nn = vgg16.VGG16(weights='imagenet', include_top=False, input_shape=(64, 64, 3))\n",
        "\n",
        "# Extract features for each image (all in one pass)\n",
        "features_x = pretrained_nn.predict(x_train)\n",
        "\n",
        "# Save the array of extracted features to a file\n",
        "joblib.dump(features_x, \"x_train.dat\")\n",
        "\n",
        "# Save the matching array of expected values to a file\n",
        "joblib.dump(y_train, \"y_train.dat\")"
      ],
      "execution_count": 130,
      "outputs": [
        {
          "output_type": "execute_result",
          "data": {
            "text/plain": [
              "['y_train.dat']"
            ]
          },
          "metadata": {
            "tags": []
          },
          "execution_count": 130
        }
      ]
    },
    {
      "cell_type": "code",
      "metadata": {
        "id": "s8cywxuy3LHJ"
      },
      "source": [
        "# Load data set\n",
        "x_train = joblib.load(\"x_train.dat\")\n",
        "y_train = joblib.load(\"y_train.dat\")\n"
      ],
      "execution_count": 132,
      "outputs": []
    },
    {
      "cell_type": "code",
      "metadata": {
        "id": "iB7sgFL13OhQ"
      },
      "source": [
        "# Create a model and add layers\n",
        "model = Sequential()\n",
        "\n",
        "model.add(Flatten(input_shape=x_train.shape[1:]))\n",
        "model.add(Dense(256, activation='relu'))\n",
        "model.add(Dropout(0.5))\n",
        "model.add(Dense(1, activation='sigmoid'))\n"
      ],
      "execution_count": 133,
      "outputs": []
    },
    {
      "cell_type": "code",
      "metadata": {
        "colab": {
          "base_uri": "https://localhost:8080/"
        },
        "id": "TZ066Jz93S07",
        "outputId": "d206191f-6c59-4d49-9c52-dfd3a6e46945"
      },
      "source": [
        "# Compile the model\n",
        "model.compile(\n",
        "    loss=\"binary_crossentropy\",\n",
        "    optimizer=\"adam\",\n",
        "    metrics=['accuracy']\n",
        ")\n",
        "\n",
        "# Train the model\n",
        "model.fit(\n",
        "    x_train,\n",
        "    y_train,\n",
        "    epochs=10,\n",
        "    shuffle=True\n",
        ")\n"
      ],
      "execution_count": 134,
      "outputs": [
        {
          "output_type": "stream",
          "text": [
            "Epoch 1/10\n",
            "36/36 [==============================] - 1s 6ms/step - loss: 4.1461 - accuracy: 0.8064\n",
            "Epoch 2/10\n",
            "36/36 [==============================] - 0s 7ms/step - loss: 0.2764 - accuracy: 0.9824\n",
            "Epoch 3/10\n",
            "36/36 [==============================] - 0s 6ms/step - loss: 0.0444 - accuracy: 0.9950\n",
            "Epoch 4/10\n",
            "36/36 [==============================] - 0s 7ms/step - loss: 0.0154 - accuracy: 0.9973\n",
            "Epoch 5/10\n",
            "36/36 [==============================] - 0s 7ms/step - loss: 0.0093 - accuracy: 0.9967\n",
            "Epoch 6/10\n",
            "36/36 [==============================] - 0s 7ms/step - loss: 0.0111 - accuracy: 0.9976\n",
            "Epoch 7/10\n",
            "36/36 [==============================] - 0s 6ms/step - loss: 0.0048 - accuracy: 0.9964\n",
            "Epoch 8/10\n",
            "36/36 [==============================] - 0s 7ms/step - loss: 0.0021 - accuracy: 0.9998\n",
            "Epoch 9/10\n",
            "36/36 [==============================] - 0s 7ms/step - loss: 0.0246 - accuracy: 0.9972\n",
            "Epoch 10/10\n",
            "36/36 [==============================] - 0s 7ms/step - loss: 0.0174 - accuracy: 0.9976\n"
          ],
          "name": "stdout"
        },
        {
          "output_type": "execute_result",
          "data": {
            "text/plain": [
              "<keras.callbacks.History at 0x7fa95f42e9d0>"
            ]
          },
          "metadata": {
            "tags": []
          },
          "execution_count": 134
        }
      ]
    },
    {
      "cell_type": "code",
      "metadata": {
        "id": "4mseaoRz3Z2r"
      },
      "source": [
        "# Save neural network structure\n",
        "model_structure = model.to_json()\n",
        "f = Path(\"model_structure.json\")\n",
        "f.write_text(model_structure)\n",
        "\n",
        "# Save neural network's trained weights\n",
        "model.save_weights(\"model_weights.h5\")\n"
      ],
      "execution_count": 137,
      "outputs": []
    },
    {
      "cell_type": "code",
      "metadata": {
        "id": "WRbKAHh45sYv"
      },
      "source": [
        "# Load the json file that contains the model's structure\n",
        "f = Path(\"model_structure.json\")\n",
        "model_structure = f.read_text()\n",
        "\n",
        "# Recreate the Keras model object from the json data\n",
        "model = model_from_json(model_structure)\n",
        "\n",
        "# Re-load the model's trained weights\n",
        "model.load_weights(\"model_weights.h5\")"
      ],
      "execution_count": 141,
      "outputs": []
    },
    {
      "cell_type": "code",
      "metadata": {
        "id": "W_dxhZRJ53fO"
      },
      "source": [
        "# versãoo inicial uma imagem por vez\n",
        "\n",
        "# Load an image file to test, resizing it to 64x64 pixels (as required by this model)\n",
        "img = image.load_img(\"/content/test_files/Rain01.jpg\", target_size=(64, 64))\n",
        "\n",
        "# Convert the image to a numpy array\n",
        "image_array = image.img_to_array(img)\n",
        "\n",
        "# Add a forth dimension to the image (since Keras expects a bunch of images, not a single image)\n",
        "images = np.expand_dims(image_array, axis=0)\n",
        "\n",
        "# Normalize the data\n",
        "images = vgg16.preprocess_input(images)\n",
        "\n",
        "# Use the pre-trained neural network to extract features from our test image (the same way we did to train the model)\n",
        "feature_extraction_model = vgg16.VGG16(weights='imagenet', include_top=False, input_shape=(64, 64, 3))\n",
        "features = feature_extraction_model.predict(images)\n",
        "\n",
        "# Given the extracted features, make a final prediction using our own model\n",
        "results = model.predict(features)\n",
        "\n",
        "# Since we are only testing one image with possible class, we only need to check the first result's first element\n",
        "single_result = results[0][0]\n",
        "\n",
        "# Print the result\n",
        "print(\"Likelihood that this image contains rain: {}%\".format(int(single_result * 100)))"
      ],
      "execution_count": null,
      "outputs": []
    },
    {
      "cell_type": "code",
      "metadata": {
        "colab": {
          "base_uri": "https://localhost:8080/"
        },
        "id": "L83JI5eK_Koh",
        "outputId": "1a8b48d0-4133-4e18-bcb7-81958e9bdda7"
      },
      "source": [
        "# loads one image for initial tests\n",
        "\n",
        "#Load an image file to test, resizing it to 64x64 pixels (as required by this model)\n",
        "img = image.load_img(\"/content/test_files/Rain01.jpg\", target_size=(64, 64))\n",
        "print(img)"
      ],
      "execution_count": null,
      "outputs": [
        {
          "output_type": "stream",
          "text": [
            "<PIL.Image.Image image mode=RGB size=64x64 at 0x7FA9620105D0>\n"
          ],
          "name": "stdout"
        }
      ]
    },
    {
      "cell_type": "code",
      "metadata": {
        "colab": {
          "base_uri": "https://localhost:8080/"
        },
        "id": "809bGQRb8pts",
        "outputId": "38c98cc4-f04d-4760-ef1d-97e9bf3fe6cd"
      },
      "source": [
        "# evaluating testing data\n",
        "imagess =[]\n",
        "\n",
        "# Path to folders with testing data\n",
        "testing_path = Path(\"/content/test_files_rain\")\n",
        "\n",
        "# Load all the not_rain images\n",
        "for index, img in enumerate(testing_path.glob(\"*.jpg\"), start=1):\n",
        "\n",
        "  # Load an image file to test, resizing it to 64x64 pixels (as required by this model)\n",
        "  img = image.load_img(img, target_size=(64, 64))\n",
        "\n",
        "  # Convert the image to a numpy array\n",
        "  image_array = image.img_to_array(img)\n",
        "\n",
        "  # Add a forth dimension to the image (since Keras expects a bunch of images, not a single image)\n",
        "  images = np.expand_dims(image_array, axis=0)\n",
        "\n",
        "  # Add the image to the list of images\n",
        "  imagess.append(image_array)\n",
        "\n",
        "# Normalize the data\n",
        "images = vgg16.preprocess_input(np.array(imagess))\n",
        "\n",
        "# Use the pre-trained neural network to extract features from our test image (the same way we did to train the model)\n",
        "feature_extraction_model = vgg16.VGG16(weights='imagenet', include_top=False, input_shape=(64, 64, 3))\n",
        "features = feature_extraction_model.predict(images)\n",
        "\n",
        "# Given the extracted features, make a final prediction using our own model\n",
        "results = model.predict(features)\n",
        "for ind in range(len(imagess)):\n",
        "  # Since we are only testing one image with possible class, we only need to check the first result's first element\n",
        "  single_result = results[ind][0]\n",
        "  \n",
        "  # Print the result\n",
        "  print(\"Image {}: Likelihood that this image contains rain: {}%\".format(ind, int(single_result * 100)))"
      ],
      "execution_count": 150,
      "outputs": [
        {
          "output_type": "stream",
          "text": [
            "Image 0: Likelihood that this image contains rain: 100%\n",
            "Image 1: Likelihood that this image contains rain: 100%\n",
            "Image 2: Likelihood that this image contains rain: 100%\n",
            "Image 3: Likelihood that this image contains rain: 100%\n",
            "Image 4: Likelihood that this image contains rain: 100%\n",
            "Image 5: Likelihood that this image contains rain: 100%\n",
            "Image 6: Likelihood that this image contains rain: 100%\n"
          ],
          "name": "stdout"
        }
      ]
    }
  ]
}